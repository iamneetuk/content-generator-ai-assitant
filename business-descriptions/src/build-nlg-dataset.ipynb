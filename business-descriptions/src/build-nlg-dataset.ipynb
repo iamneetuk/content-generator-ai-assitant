{
 "cells": [
  {
   "cell_type": "code",
   "execution_count": 1,
   "id": "0db46317-b9af-4f94-8e01-07fd8882739c",
   "metadata": {},
   "outputs": [],
   "source": [
    "import spacy\n",
    "import pandas as pd"
   ]
  },
  {
   "cell_type": "code",
   "execution_count": 2,
   "id": "acb5b362-e080-4390-ba3d-d3c4766d99ef",
   "metadata": {},
   "outputs": [],
   "source": [
    "nlp = spacy.load(\"en_core_web_sm\")"
   ]
  },
  {
   "cell_type": "code",
   "execution_count": 3,
   "id": "b398ff40-aa87-4da9-a146-710c0c564900",
   "metadata": {},
   "outputs": [],
   "source": [
    "df = pd.read_csv(\"../data/company-data.csv\", header=None, usecols=[0,1])"
   ]
  },
  {
   "cell_type": "code",
   "execution_count": 4,
   "id": "aa746540-5154-49c7-8779-9e2a6b850620",
   "metadata": {},
   "outputs": [],
   "source": [
    "df = df[1:]\n",
    "df.reset_index(inplace = True)"
   ]
  },
  {
   "cell_type": "code",
   "execution_count": 5,
   "id": "5f83dd36-7575-4b0d-b66f-3cec25b7ddf9",
   "metadata": {},
   "outputs": [
    {
     "data": {
      "text/plain": [
       "'Netflix is an online platform that enables users to watch TV shows and movies.'"
      ]
     },
     "execution_count": 5,
     "metadata": {},
     "output_type": "execute_result"
    }
   ],
   "source": [
    "df[1][0]"
   ]
  },
  {
   "cell_type": "markdown",
   "id": "c251cc94-428e-438d-b7bd-de32111f9e8c",
   "metadata": {},
   "source": [
    "### Use Spacy entity recognizer to fetch keywords from company's description"
   ]
  },
  {
   "cell_type": "code",
   "execution_count": 6,
   "id": "734f27f7-2252-464d-9ade-d59321bdbb26",
   "metadata": {},
   "outputs": [],
   "source": [
    "company = {'input_text':[], 'target_text':[]}\n",
    "for i in range(len(df[0])):\n",
    "    sentence = df[1][i]\n",
    "    doc = nlp(sentence)\n",
    "    \n",
    "    keywords = []\n",
    "    for token in doc:\n",
    "        if (not token.is_stop and token.is_alpha) and (token.tag_ == 'NNP' or token.tag_ == 'NN'):\n",
    "            keywords.append(token.lemma_)\n",
    "\n",
    "    keywords = pd.Series(keywords).drop_duplicates().tolist()\n",
    "    keywords = ' | '.join(keywords)\n",
    "    company['input_text'].append(keywords.strip())\n",
    "    company['target_text'].append(sentence.strip())"
   ]
  },
  {
   "cell_type": "code",
   "execution_count": 7,
   "id": "68dce4b5-7d36-4653-accb-d7b9eccba7b1",
   "metadata": {},
   "outputs": [],
   "source": [
    "c_list = pd.DataFrame(company)"
   ]
  },
  {
   "cell_type": "code",
   "execution_count": 8,
   "id": "d2d559dd-d894-45e7-ba94-c6d2ecbebe09",
   "metadata": {},
   "outputs": [
    {
     "data": {
      "text/html": [
       "<div>\n",
       "<style scoped>\n",
       "    .dataframe tbody tr th:only-of-type {\n",
       "        vertical-align: middle;\n",
       "    }\n",
       "\n",
       "    .dataframe tbody tr th {\n",
       "        vertical-align: top;\n",
       "    }\n",
       "\n",
       "    .dataframe thead th {\n",
       "        text-align: right;\n",
       "    }\n",
       "</style>\n",
       "<table border=\"1\" class=\"dataframe\">\n",
       "  <thead>\n",
       "    <tr style=\"text-align: right;\">\n",
       "      <th></th>\n",
       "      <th>input_text</th>\n",
       "      <th>target_text</th>\n",
       "    </tr>\n",
       "  </thead>\n",
       "  <tbody>\n",
       "    <tr>\n",
       "      <th>0</th>\n",
       "      <td>Netflix | platform | tv</td>\n",
       "      <td>Netflix is an online platform that enables use...</td>\n",
       "    </tr>\n",
       "    <tr>\n",
       "      <th>1</th>\n",
       "      <td>Instacart | grocery | platform | day | deliver...</td>\n",
       "      <td>Instacart is an online grocery platform that o...</td>\n",
       "    </tr>\n",
       "    <tr>\n",
       "      <th>2</th>\n",
       "      <td>duolingo | language | education | platform</td>\n",
       "      <td>Duolingo is a language-learning education plat...</td>\n",
       "    </tr>\n",
       "    <tr>\n",
       "      <th>3</th>\n",
       "      <td>SpaceX | aviation | aerospace | company | spac...</td>\n",
       "      <td>SpaceX is an aviation and aerospace company th...</td>\n",
       "    </tr>\n",
       "  </tbody>\n",
       "</table>\n",
       "</div>"
      ],
      "text/plain": [
       "                                          input_text  \\\n",
       "0                            Netflix | platform | tv   \n",
       "1  Instacart | grocery | platform | day | deliver...   \n",
       "2         duolingo | language | education | platform   \n",
       "3  SpaceX | aviation | aerospace | company | spac...   \n",
       "\n",
       "                                         target_text  \n",
       "0  Netflix is an online platform that enables use...  \n",
       "1  Instacart is an online grocery platform that o...  \n",
       "2  Duolingo is a language-learning education plat...  \n",
       "3  SpaceX is an aviation and aerospace company th...  "
      ]
     },
     "execution_count": 8,
     "metadata": {},
     "output_type": "execute_result"
    }
   ],
   "source": [
    "c_list"
   ]
  },
  {
   "cell_type": "code",
   "execution_count": 170,
   "id": "e953618b-0d88-4456-abe4-0143b55e3294",
   "metadata": {},
   "outputs": [],
   "source": []
  },
  {
   "cell_type": "code",
   "execution_count": 9,
   "id": "1af12d43-5e7a-470a-855b-55f0a3abd049",
   "metadata": {},
   "outputs": [],
   "source": [
    "c_list.to_csv('../data/company-nlg-data.csv', columns=['input_text', 'target_text'], index=False)"
   ]
  }
 ],
 "metadata": {
  "kernelspec": {
   "display_name": "Python 3",
   "language": "python",
   "name": "python3"
  },
  "language_info": {
   "codemirror_mode": {
    "name": "ipython",
    "version": 3
   },
   "file_extension": ".py",
   "mimetype": "text/x-python",
   "name": "python",
   "nbconvert_exporter": "python",
   "pygments_lexer": "ipython3",
   "version": "3.9.5"
  }
 },
 "nbformat": 4,
 "nbformat_minor": 5
}
